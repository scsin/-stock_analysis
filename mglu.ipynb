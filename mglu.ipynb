{
  "nbformat": 4,
  "nbformat_minor": 0,
  "metadata": {
    "colab": {
      "name": "mglu.ipynb",
      "provenance": [],
      "collapsed_sections": [],
      "include_colab_link": true
    },
    "kernelspec": {
      "name": "python3",
      "display_name": "Python 3"
    }
  },
  "cells": [
    {
      "cell_type": "markdown",
      "metadata": {
        "id": "view-in-github",
        "colab_type": "text"
      },
      "source": [
        "<a href=\"https://colab.research.google.com/github/scsin/-stock_analysis/blob/master/mglu.ipynb\" target=\"_parent\"><img src=\"https://colab.research.google.com/assets/colab-badge.svg\" alt=\"Open In Colab\"/></a>"
      ]
    },
    {
      "cell_type": "code",
      "metadata": {
        "id": "vNXCSOiZ2FK2",
        "colab_type": "code",
        "outputId": "1eadb38b-93b6-4db6-9961-0975510f870b",
        "colab": {
          "base_uri": "https://localhost:8080/",
          "height": 297
        }
      },
      "source": [
        "!pip install yahoofinance"
      ],
      "execution_count": 1,
      "outputs": [
        {
          "output_type": "stream",
          "text": [
            "Collecting yahoofinance\n",
            "  Downloading https://files.pythonhosted.org/packages/b2/7b/a669ed5e629a665a81f1c456b4d8bb45929913a4ddb34ec2c2eef10f9a37/yahoofinance-0.0.2-py3-none-any.whl\n",
            "Requirement already satisfied: beautifulsoup4>=4.6.3 in /usr/local/lib/python3.6/dist-packages (from yahoofinance) (4.6.3)\n",
            "Requirement already satisfied: pandas>=0.23.4 in /usr/local/lib/python3.6/dist-packages (from yahoofinance) (0.25.3)\n",
            "Requirement already satisfied: requests>=2.20.1 in /usr/local/lib/python3.6/dist-packages (from yahoofinance) (2.21.0)\n",
            "Requirement already satisfied: pytz>=2017.2 in /usr/local/lib/python3.6/dist-packages (from pandas>=0.23.4->yahoofinance) (2018.9)\n",
            "Requirement already satisfied: numpy>=1.13.3 in /usr/local/lib/python3.6/dist-packages (from pandas>=0.23.4->yahoofinance) (1.17.4)\n",
            "Requirement already satisfied: python-dateutil>=2.6.1 in /usr/local/lib/python3.6/dist-packages (from pandas>=0.23.4->yahoofinance) (2.6.1)\n",
            "Requirement already satisfied: certifi>=2017.4.17 in /usr/local/lib/python3.6/dist-packages (from requests>=2.20.1->yahoofinance) (2019.9.11)\n",
            "Requirement already satisfied: chardet<3.1.0,>=3.0.2 in /usr/local/lib/python3.6/dist-packages (from requests>=2.20.1->yahoofinance) (3.0.4)\n",
            "Requirement already satisfied: urllib3<1.25,>=1.21.1 in /usr/local/lib/python3.6/dist-packages (from requests>=2.20.1->yahoofinance) (1.24.3)\n",
            "Requirement already satisfied: idna<2.9,>=2.5 in /usr/local/lib/python3.6/dist-packages (from requests>=2.20.1->yahoofinance) (2.8)\n",
            "Requirement already satisfied: six>=1.5 in /usr/local/lib/python3.6/dist-packages (from python-dateutil>=2.6.1->pandas>=0.23.4->yahoofinance) (1.12.0)\n",
            "Installing collected packages: yahoofinance\n",
            "Successfully installed yahoofinance-0.0.2\n"
          ],
          "name": "stdout"
        }
      ]
    },
    {
      "cell_type": "code",
      "metadata": {
        "id": "B8cOpSi-Bqza",
        "colab_type": "code",
        "colab": {}
      },
      "source": [
        "# Documentation: https://python-yahoofinance.readthedocs.io/en/latest/api.html#balance-sheet\n",
        "\n",
        "import yahoofinance as yf\n",
        "import pandas as pd\n",
        "import seaborn as sns\n",
        "from datetime import datetime"
      ],
      "execution_count": 0,
      "outputs": []
    },
    {
      "cell_type": "code",
      "metadata": {
        "id": "RgCxnI8oD_qf",
        "colab_type": "code",
        "colab": {}
      },
      "source": [
        "index = '^BVSP'\n",
        "ativo = 'MGLU3'\n",
        "data_inicio = '2017-10-20'\n",
        "data_fim = datetime.today().date()"
      ],
      "execution_count": 0,
      "outputs": []
    },
    {
      "cell_type": "code",
      "metadata": {
        "id": "Dc9VfRGl9DKg",
        "colab_type": "code",
        "outputId": "fbc8ee3c-d496-4a57-87ac-60d69715107a",
        "colab": {
          "base_uri": "https://localhost:8080/",
          "height": 173
        }
      },
      "source": [
        "ibov = yf.HistoricalPrices(f'{index}', f'{data_inicio}', f'{data_fim}')\n",
        "save_csv = ibov.to_csv(f'{index}.csv')\n",
        "ibov_csv = pd.read_csv(f'{index}.csv')\n",
        "print(round(ibov_csv.describe(), 1))"
      ],
      "execution_count": 5,
      "outputs": [
        {
          "output_type": "stream",
          "text": [
            "           Open      High       Low     Close  Adj Close     Volume\n",
            "count     519.0     519.0     519.0     519.0      519.0      519.0\n",
            "mean    88609.8   89405.1   87859.8   88671.7    88671.7  4105392.9\n",
            "std     10743.8   10751.1   10743.3   10760.5    10760.5  1326093.3\n",
            "min     69811.0   70757.0   69069.0   69815.0    69815.0        0.0\n",
            "25%     79162.5   79527.0   78597.5   79187.5    79187.5  3409100.0\n",
            "50%     86383.0   87333.0   85674.0   86383.0    86383.0  4078100.0\n",
            "75%     97565.0   98167.5   96839.0   97613.0    97613.0  4878950.0\n",
            "max    109572.0  109672.0  108360.0  109581.0   109581.0  9999000.0\n"
          ],
          "name": "stdout"
        }
      ]
    },
    {
      "cell_type": "code",
      "metadata": {
        "id": "4c5ZDLkjioIH",
        "colab_type": "code",
        "outputId": "235d3bab-325d-4ffd-bf85-b9a3cdfee992",
        "colab": {
          "base_uri": "https://localhost:8080/",
          "height": 260
        }
      },
      "source": [
        "print(round(ibov_csv), 1)"
      ],
      "execution_count": 6,
      "outputs": [
        {
          "output_type": "stream",
          "text": [
            "           Date      Open      High       Low     Close  Adj Close     Volume\n",
            "0    2017-10-20   76291.0   76971.0   76291.0   76391.0    76391.0  2645300.0\n",
            "1    2017-10-23   76398.0   76498.0   75315.0   75413.0    75413.0  2631800.0\n",
            "2    2017-10-24   75426.0   76420.0   75426.0   76350.0    76350.0  3047500.0\n",
            "3    2017-10-25   76350.0   76883.0   75404.0   76671.0    76671.0  2953800.0\n",
            "4    2017-10-26   76671.0   77061.0   75813.0   75896.0    75896.0  2901100.0\n",
            "..          ...       ...       ...       ...       ...        ...        ...\n",
            "517  2019-11-18  106566.0  107519.0  106282.0  106347.0   106347.0  4919800.0\n",
            "518  2019-11-19  106269.0  106950.0  105367.0  105618.0   105618.0  3610300.0\n",
            "519  2019-11-21  105866.0  107497.0  105864.0  107497.0   107497.0  5819400.0\n",
            "520  2019-11-22  107497.0  108692.0  107157.0  108692.0   108692.0  4796100.0\n",
            "521  2019-11-25  108692.0  108915.0  108080.0  108424.0   108424.0  4512400.0\n",
            "\n",
            "[522 rows x 7 columns] 1\n"
          ],
          "name": "stdout"
        }
      ]
    },
    {
      "cell_type": "code",
      "metadata": {
        "id": "DkDGRqkR_DY3",
        "colab_type": "code",
        "outputId": "bc299468-7d3a-4d6c-d6db-09c3642119e2",
        "colab": {
          "base_uri": "https://localhost:8080/",
          "height": 173
        }
      },
      "source": [
        "mglu = yf.HistoricalPrices(f'{ativo}.SA', f'{data_inicio}', f'{data_fim}')\n",
        "save_csv_hp = mglu.to_csv(f'{ativo}_hp.csv')\n",
        "mglu_csv = pd.read_csv(f'{ativo}_hp.csv')\n",
        "print(round(mglu_csv.describe(), 1))"
      ],
      "execution_count": 7,
      "outputs": [
        {
          "output_type": "stream",
          "text": [
            "        Open   High    Low  Close  Adj Close      Volume\n",
            "count  522.0  522.0  522.0  522.0      522.0       522.0\n",
            "mean    20.4   20.8   20.0   20.4       20.0  11861835.4\n",
            "std      9.8   10.0    9.7    9.8       10.0   7413856.7\n",
            "min      6.1    6.5    5.9    6.1        5.6         0.0\n",
            "25%     12.5   12.7   12.2   12.5       12.0   7761700.0\n",
            "50%     20.1   20.5   19.7   20.0       19.1  10118400.0\n",
            "75%     23.5   24.0   23.1   23.7       23.6  13709200.0\n",
            "max     48.1   48.8   44.9   47.2       47.2  90320800.0\n"
          ],
          "name": "stdout"
        }
      ]
    },
    {
      "cell_type": "code",
      "metadata": {
        "id": "hzxdau87ivZD",
        "colab_type": "code",
        "outputId": "3eea39f5-9b1f-4c1f-8094-0dadff98555c",
        "colab": {
          "base_uri": "https://localhost:8080/",
          "height": 260
        }
      },
      "source": [
        "print(round(mglu_csv), 1)"
      ],
      "execution_count": 8,
      "outputs": [
        {
          "output_type": "stream",
          "text": [
            "           Date  Open  High   Low  Close  Adj Close    Volume\n",
            "0    2017-10-20   9.0   9.0   9.0    9.0        8.0  16222400\n",
            "1    2017-10-23   9.0   9.0   9.0    9.0        8.0  13965600\n",
            "2    2017-10-24   9.0   9.0   8.0    9.0        8.0  17066400\n",
            "3    2017-10-25   9.0   9.0   8.0    9.0        8.0   8868000\n",
            "4    2017-10-26   9.0   9.0   8.0    8.0        7.0  16231200\n",
            "..          ...   ...   ...   ...    ...        ...       ...\n",
            "517  2019-11-18  45.0  45.0  44.0   45.0       45.0  27655300\n",
            "518  2019-11-19  45.0  45.0  44.0   45.0       45.0  14932900\n",
            "519  2019-11-21  45.0  45.0  44.0   45.0       45.0  10712400\n",
            "520  2019-11-22  45.0  46.0  45.0   45.0       45.0  11996000\n",
            "521  2019-11-25  46.0  46.0  44.0   44.0       44.0   9077000\n",
            "\n",
            "[522 rows x 7 columns] 1\n"
          ],
          "name": "stdout"
        }
      ]
    },
    {
      "cell_type": "code",
      "metadata": {
        "id": "JB1O5t6_Mrct",
        "colab_type": "code",
        "outputId": "24e9fe7c-b73a-43b8-c2b8-ca1d1b5d00f8",
        "colab": {
          "base_uri": "https://localhost:8080/",
          "height": 711
        }
      },
      "source": [
        "mglu_bs = yf.BalanceSheet(f'{ativo}.SA')\n",
        "save_csv_bs = mglu_bs.to_csv(f'{ativo}_bs.csv')\n",
        "mglu_csv_bs = pd.read_csv(f'{ativo}_bs.csv')\n",
        "print(mglu_csv_bs)"
      ],
      "execution_count": 9,
      "outputs": [
        {
          "output_type": "stream",
          "text": [
            "                           Period ending  Unnamed: 1  ...  2016-12-31  2015-12-31\n",
            "0                                 Assets         NaN  ...         NaN         NaN\n",
            "1              Cash And Cash Equivalents         NaN  ...   599141000   617465000\n",
            "2                 Short Term Investments         NaN  ...   818984000   497623000\n",
            "3                        Net Receivables         NaN  ...   857173000   855721000\n",
            "4                              Inventory         NaN  ...  1596743000  1353092000\n",
            "5                   Other Current Assets         NaN  ...    47802000    36614000\n",
            "6                   Total Current Assets         NaN  ...  3919843000  3360515000\n",
            "7                  Long Term Investments         NaN  ...   294001000   344197000\n",
            "8           Property Plant and Equipment         NaN  ...   560067000   578571000\n",
            "9                               Goodwill         NaN  ...   385725000   386227000\n",
            "10                     Intangible Assets         NaN  ...   127324000   120493000\n",
            "11              Accumulated Amortization         NaN  ...           -           -\n",
            "12                          Other Assets         NaN  ...   813646000   711978000\n",
            "13      Deferred Long Term Asset Charges         NaN  ...           -           -\n",
            "14                          Total Assets         NaN  ...  6100606000  5501981000\n",
            "15                           Liabilities         NaN  ...         NaN         NaN\n",
            "16                      Accounts Payable         NaN  ...  2364959000  1894157000\n",
            "17          Short/Current Long Term Debt         NaN  ...   838016000   568350000\n",
            "18             Other Current Liabilities         NaN  ...   275651000   256580000\n",
            "19             Total Current Liabilities         NaN  ...  3672426000  2874782000\n",
            "20                        Long Term Debt         NaN  ...  1010760000  1254960000\n",
            "21                     Other Liabilities         NaN  ...   795834000   796583000\n",
            "22  Deferred Long Term Liability Charges         NaN  ...           -           -\n",
            "23                     Minority Interest         NaN  ...           -           -\n",
            "24                     Negative Goodwill         NaN  ...           -           -\n",
            "25                     Total Liabilities         NaN  ...  5479020000  4926325000\n",
            "26                                Equity         NaN  ...         NaN         NaN\n",
            "27         Misc. Stocks Options Warrants         NaN  ...           -           -\n",
            "28            Redeemable Preferred Stock         NaN  ...           -           -\n",
            "29                       Preferred Stock         NaN  ...           -           -\n",
            "30                          Common Stock         NaN  ...   606505000   606505000\n",
            "31                     Retained Earnings         NaN  ...    23578000   -34214000\n",
            "32                        Treasury Stock         NaN  ...    -8497000     3365000\n",
            "33                       Capital Surplus         NaN  ...           -           -\n",
            "34              Other Stockholder Equity         NaN  ...    20232000    12939000\n",
            "35              Total Stockholder Equity         NaN  ...   621586000   575656000\n",
            "36                   Net Tangible Assets         NaN  ...   108537000    68936000\n",
            "\n",
            "[37 rows x 6 columns]\n"
          ],
          "name": "stdout"
        }
      ]
    },
    {
      "cell_type": "code",
      "metadata": {
        "id": "fUuWIGOngIOu",
        "colab_type": "code",
        "outputId": "699d12a3-7b93-42dc-cf7c-98d98200c121",
        "colab": {
          "base_uri": "https://localhost:8080/",
          "height": 485
        }
      },
      "source": [
        "mglu_cf = yf.CashFlow(f'{ativo}.SA')\n",
        "save_csv_cf = mglu_cf.to_csv(f'{ativo}_cf.csv')\n",
        "mglu_csv_cf = pd.read_csv(f'{ativo}_cf.csv')\n",
        "print(mglu_csv_cf)"
      ],
      "execution_count": 10,
      "outputs": [
        {
          "output_type": "stream",
          "text": [
            "                                 Period ending  ...  2015-12-31\n",
            "0                                      Overall  ...         NaN\n",
            "1                                   Net Income  ...   -65605000\n",
            "2                         Operating activities  ...         NaN\n",
            "3                                 Depreciation  ...    84727000\n",
            "4                    Adjustments to net income  ...   239922000\n",
            "5               Changes in accounts receivable  ...   113211000\n",
            "6                       Changes in liabilities  ...   104259000\n",
            "7                         Changes in inventory  ...    54839000\n",
            "8        Changes in other operating activities  ...    35779000\n",
            "9    Total cash flow from operating activities  ...   462790000\n",
            "10                       Investment activities  ...         NaN\n",
            "11                         Capital expenditure  ...   -98472000\n",
            "12                                 Investments  ...   -30000000\n",
            "13  Other cash flow from investment activities  ...   -11182000\n",
            "14  Total cash flow from investment activities  ...    60849000\n",
            "15                        Financing activities  ...         NaN\n",
            "16                              Dividends paid  ...   -33484000\n",
            "17                      Sale purchase of stock  ...           -\n",
            "18                              Net borrowings  ...   -47587000\n",
            "19   Other cash flow from financing activities  ...  -221690000\n",
            "20   Total cash flow from financing activities  ...  -318344000\n",
            "21                             Changes in Cash  ...         NaN\n",
            "22             Effect of exchange rate changes  ...           -\n",
            "23         Change in cash and cash equivalents  ...   205295000\n",
            "\n",
            "[24 rows x 6 columns]\n"
          ],
          "name": "stdout"
        }
      ]
    },
    {
      "cell_type": "code",
      "metadata": {
        "id": "uHWOM-R8gs9I",
        "colab_type": "code",
        "outputId": "739d26c1-2e30-4634-c9dd-3d5066da4d61",
        "colab": {
          "base_uri": "https://localhost:8080/",
          "height": 555
        }
      },
      "source": [
        "mglu_is = yf.IncomeStatement(f'{ativo}.SA')\n",
        "save_csv_is = mglu_is.to_csv(f'{ativo}_is.csv')\n",
        "mglu_csv_is = pd.read_csv(f'{ativo}_is.csv')\n",
        "print(mglu_csv_is)"
      ],
      "execution_count": 11,
      "outputs": [
        {
          "output_type": "stream",
          "text": [
            "                             Period ending  Unnamed: 1  ...  2016-12-31  2015-12-31\n",
            "0                                  Revenue         NaN  ...         NaN         NaN\n",
            "1                            Total Revenue         NaN  ...  9508745000  8978259000\n",
            "2                          Cost of Revenue         NaN  ...  6586130000  6399630000\n",
            "3                             Gross Profit         NaN  ...  2922615000  2578629000\n",
            "4                       Operating Expenses         NaN  ...         NaN         NaN\n",
            "5                     Research Development         NaN  ...           -           -\n",
            "6       Selling General and Administrative         NaN  ...           -           -\n",
            "7                            Non Recurring         NaN  ...           -           -\n",
            "8                                   Others         NaN  ...   -41145000   -48829000\n",
            "9                 Total Operating Expenses         NaN  ...  8957281000  8671732000\n",
            "10                Operating Income or Loss         NaN  ...   551464000   306527000\n",
            "11       Income from Continuing Operations         NaN  ...         NaN         NaN\n",
            "12         Total Other Income/Expenses Net         NaN  ...  -474368000  -453656000\n",
            "13      Earnings Before Interest and Taxes         NaN  ...   551464000   306527000\n",
            "14                        Interest Expense         NaN  ...  -289990000  -304606000\n",
            "15                       Income Before Tax         NaN  ...    77096000  -147129000\n",
            "16                      Income Tax Expense         NaN  ...    -9469000   -81524000\n",
            "17                       Minority Interest         NaN  ...           -           -\n",
            "18          Net Income From Continuing Ops         NaN  ...    86565000   -65605000\n",
            "19                    Non-recurring Events         NaN  ...         NaN         NaN\n",
            "20                 Discontinued Operations         NaN  ...           -           -\n",
            "21                     Extraordinary Items         NaN  ...           -           -\n",
            "22            Effect Of Accounting Changes         NaN  ...           -           -\n",
            "23                             Other Items         NaN  ...           -           -\n",
            "24                              Net Income         NaN  ...         NaN         NaN\n",
            "25                              Net Income         NaN  ...    86565000   -65605000\n",
            "26   Preferred Stock And Other Adjustments         NaN  ...           -           -\n",
            "27  Net Income Applicable To Common Shares         NaN  ...    86565000   -65605000\n",
            "\n",
            "[28 rows x 6 columns]\n"
          ],
          "name": "stdout"
        }
      ]
    }
  ]
}