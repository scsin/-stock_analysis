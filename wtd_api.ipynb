{
  "nbformat": 4,
  "nbformat_minor": 0,
  "metadata": {
    "colab": {
      "name": "wtd_api.ipynb",
      "provenance": [],
      "collapsed_sections": [],
      "include_colab_link": true
    },
    "kernelspec": {
      "name": "python3",
      "display_name": "Python 3"
    }
  },
  "cells": [
    {
      "cell_type": "markdown",
      "metadata": {
        "id": "view-in-github",
        "colab_type": "text"
      },
      "source": [
        "<a href=\"https://colab.research.google.com/github/scsin/stock_analysis/blob/master/wtd_api.ipynb\" target=\"_parent\"><img src=\"https://colab.research.google.com/assets/colab-badge.svg\" alt=\"Open In Colab\"/></a>"
      ]
    },
    {
      "cell_type": "code",
      "metadata": {
        "id": "W5iN_yvn1dD3",
        "colab_type": "code",
        "colab": {}
      },
      "source": [
        "!pip install ipython-secrets && install gsheet-keyring"
      ],
      "execution_count": 0,
      "outputs": []
    },
    {
      "cell_type": "code",
      "metadata": {
        "id": "iZHTZU8j1inF",
        "colab_type": "code",
        "colab": {}
      },
      "source": [
        "import datetime\n",
        "import requests\n",
        "from ipython_secrets import *"
      ],
      "execution_count": 0,
      "outputs": []
    },
    {
      "cell_type": "code",
      "metadata": {
        "id": "RVr5MsCu1lzV",
        "colab_type": "code",
        "colab": {
          "base_uri": "https://localhost:8080/",
          "height": 54
        },
        "outputId": "a2e66687-a5cd-4ad9-c826-ea71841d39b6"
      },
      "source": [
        "stock = 'MGLU3'\n",
        "datefrom = '2019-11-01'\n",
        "dateto = datetime.date.today()\n",
        "\n",
        "req = requests.get(f'https://api.worldtradingdata.com/api/v1/history?symbol={stock}.SA&date_from={datefrom}&date_to={dateto}&api_token={my_wtd_token}')\n",
        "print(req.json())\n"
      ],
      "execution_count": 5,
      "outputs": [
        {
          "output_type": "stream",
          "text": [
            "{'name': 'MGLU3.SA', 'history': {'2019-11-26': {'open': '44.20', 'close': '43.08', 'high': '44.29', 'low': '42.85', 'volume': '8833400'}, '2019-11-25': {'open': '45.50', 'close': '44.30', 'high': '45.51', 'low': '44.30', 'volume': '9077000'}, '2019-11-22': {'open': '44.70', 'close': '45.49', 'high': '45.69', 'low': '44.56', 'volume': '11996000'}, '2019-11-21': {'open': '44.89', 'close': '45.00', 'high': '45.09', 'low': '44.25', 'volume': '10712400'}, '2019-11-19': {'open': '44.98', 'close': '44.46', 'high': '45.25', 'low': '43.53', 'volume': '11521100'}, '2019-11-18': {'open': '45.00', 'close': '44.98', 'high': '45.19', 'low': '43.77', 'volume': '27655300'}, '2019-11-14': {'open': '42.70', 'close': '44.25', 'high': '44.46', 'low': '42.57', 'volume': '18068100'}, '2019-11-13': {'open': '42.86', 'close': '42.50', 'high': '42.88', 'low': '41.70', 'volume': '22822800'}, '2019-11-12': {'open': '45.20', 'close': '43.40', 'high': '45.46', 'low': '43.07', 'volume': '16359300'}, '2019-11-11': {'open': '43.50', 'close': '45.02', 'high': '45.48', 'low': '43.24', 'volume': '11163900'}, '2019-11-08': {'open': '43.51', 'close': '43.81', 'high': '44.79', 'low': '42.95', 'volume': '10639700'}, '2019-11-07': {'open': '45.61', 'close': '44.20', 'high': '45.90', 'low': '44.16', 'volume': '9778700'}, '2019-11-06': {'open': '44.50', 'close': '45.20', 'high': '45.30', 'low': '43.49', 'volume': '11794000'}, '2019-11-05': {'open': '45.32', 'close': '44.04', 'high': '46.28', 'low': '43.52', 'volume': '18187200'}, '2019-11-04': {'open': '48.14', 'close': '46.00', 'high': '48.79', 'low': '45.70', 'volume': '24299100'}, '2019-11-01': {'open': '44.95', 'close': '47.19', 'high': '47.30', 'low': '44.91', 'volume': '23109600'}}}\n"
          ],
          "name": "stdout"
        }
      ]
    }
  ]
}