{
  "nbformat": 4,
  "nbformat_minor": 0,
  "metadata": {
    "colab": {
      "name": "wtd_api.ipynb",
      "provenance": [],
      "collapsed_sections": [],
      "include_colab_link": true
    },
    "kernelspec": {
      "name": "python3",
      "display_name": "Python 3"
    }
  },
  "cells": [
    {
      "cell_type": "markdown",
      "metadata": {
        "id": "view-in-github",
        "colab_type": "text"
      },
      "source": [
        "<a href=\"https://colab.research.google.com/github/scsin/stock_analysis/blob/master/wtd_api.ipynb\" target=\"_parent\"><img src=\"https://colab.research.google.com/assets/colab-badge.svg\" alt=\"Open In Colab\"/></a>"
      ]
    },
    {
      "cell_type": "markdown",
      "metadata": {
        "id": "k3viK3lZ_AVm",
        "colab_type": "text"
      },
      "source": [
        "# Install and import libraries"
      ]
    },
    {
      "cell_type": "code",
      "metadata": {
        "id": "W5iN_yvn1dD3",
        "colab_type": "code",
        "colab": {}
      },
      "source": [
        "!pip install ipython-secrets && install gsheet-keyring"
      ],
      "execution_count": 0,
      "outputs": []
    },
    {
      "cell_type": "code",
      "metadata": {
        "id": "iZHTZU8j1inF",
        "colab_type": "code",
        "colab": {}
      },
      "source": [
        "import pandas as pd\n",
        "import datetime\n",
        "import requests\n",
        "from ipython_secrets import *"
      ],
      "execution_count": 0,
      "outputs": []
    },
    {
      "cell_type": "markdown",
      "metadata": {
        "id": "qZDTwiOP_GVl",
        "colab_type": "text"
      },
      "source": [
        "# Stock definition, start date and end date"
      ]
    },
    {
      "cell_type": "code",
      "metadata": {
        "id": "RVr5MsCu1lzV",
        "colab_type": "code",
        "colab": {}
      },
      "source": [
        "index = '^IBOV'\n",
        "stock = 'MGLU3'\n",
        "start_date = '2019-11-01'\n",
        "end_date = datetime.date.today()"
      ],
      "execution_count": 0,
      "outputs": []
    },
    {
      "cell_type": "markdown",
      "metadata": {
        "id": "7GTh3VdD_WAa",
        "colab_type": "text"
      },
      "source": [
        "# API Get and save response in csv file"
      ]
    },
    {
      "cell_type": "code",
      "metadata": {
        "id": "_LFds04T_U3K",
        "colab_type": "code",
        "colab": {}
      },
      "source": [
        "req_index = requests.get(f'https://api.worldtradingdata.com/api/v1/history?symbol={index}&date_from={start_date}&date_to={end_date}&api_token={my_wtd_token}&output=csv')\n",
        "\n",
        "req = requests.get(f'https://api.worldtradingdata.com/api/v1/history?symbol={stock}.SA&date_from={start_date}&date_to={end_date}&api_token={my_wtd_token}&output=csv')\n",
        "\n",
        "with open(f\"{index}.csv\", \"wb\") as f:\n",
        "  f.write(req_index.content)\n",
        "  \n",
        "with open(f\"{stock}.csv\",'wb') as f: \n",
        "  f.write(req.content)\n",
        "\n",
        "index_csv_load = pd.read_csv(f'{index}.csv')\n",
        "stock_csv_load = pd.read_csv(f'{stock}.csv')"
      ],
      "execution_count": 0,
      "outputs": []
    },
    {
      "cell_type": "markdown",
      "metadata": {
        "id": "PgqCENReGj4K",
        "colab_type": "text"
      },
      "source": [
        "# Describe index"
      ]
    },
    {
      "cell_type": "code",
      "metadata": {
        "id": "OltCNo4eGerY",
        "colab_type": "code",
        "colab": {
          "base_uri": "https://localhost:8080/",
          "height": 297
        },
        "outputId": "e46dbd4e-48d6-47d2-ec8b-2eb674f260e4"
      },
      "source": [
        "def get_describe_index():\n",
        "  return round(index_csv_load.describe(), 2)\n",
        "\n",
        "get_describe_index()"
      ],
      "execution_count": 170,
      "outputs": [
        {
          "output_type": "execute_result",
          "data": {
            "text/html": [
              "<div>\n",
              "<style scoped>\n",
              "    .dataframe tbody tr th:only-of-type {\n",
              "        vertical-align: middle;\n",
              "    }\n",
              "\n",
              "    .dataframe tbody tr th {\n",
              "        vertical-align: top;\n",
              "    }\n",
              "\n",
              "    .dataframe thead th {\n",
              "        text-align: right;\n",
              "    }\n",
              "</style>\n",
              "<table border=\"1\" class=\"dataframe\">\n",
              "  <thead>\n",
              "    <tr style=\"text-align: right;\">\n",
              "      <th></th>\n",
              "      <th>Open</th>\n",
              "      <th>Close</th>\n",
              "      <th>High</th>\n",
              "      <th>Low</th>\n",
              "      <th>Volume</th>\n",
              "    </tr>\n",
              "  </thead>\n",
              "  <tbody>\n",
              "    <tr>\n",
              "      <th>count</th>\n",
              "      <td>16.00</td>\n",
              "      <td>16.00</td>\n",
              "      <td>16.00</td>\n",
              "      <td>16.00</td>\n",
              "      <td>16.0</td>\n",
              "    </tr>\n",
              "    <tr>\n",
              "      <th>mean</th>\n",
              "      <td>107684.60</td>\n",
              "      <td>107675.31</td>\n",
              "      <td>108396.47</td>\n",
              "      <td>106866.01</td>\n",
              "      <td>0.0</td>\n",
              "    </tr>\n",
              "    <tr>\n",
              "      <th>std</th>\n",
              "      <td>1123.36</td>\n",
              "      <td>1129.51</td>\n",
              "      <td>1022.02</td>\n",
              "      <td>1030.38</td>\n",
              "      <td>0.0</td>\n",
              "    </tr>\n",
              "    <tr>\n",
              "      <th>min</th>\n",
              "      <td>105866.12</td>\n",
              "      <td>105864.18</td>\n",
              "      <td>106757.61</td>\n",
              "      <td>105260.78</td>\n",
              "      <td>0.0</td>\n",
              "    </tr>\n",
              "    <tr>\n",
              "      <th>25%</th>\n",
              "      <td>106704.84</td>\n",
              "      <td>106702.55</td>\n",
              "      <td>107513.57</td>\n",
              "      <td>106140.45</td>\n",
              "      <td>0.0</td>\n",
              "    </tr>\n",
              "    <tr>\n",
              "      <th>50%</th>\n",
              "      <td>107908.72</td>\n",
              "      <td>107912.30</td>\n",
              "      <td>108460.00</td>\n",
              "      <td>106970.09</td>\n",
              "      <td>0.0</td>\n",
              "    </tr>\n",
              "    <tr>\n",
              "      <th>75%</th>\n",
              "      <td>108491.02</td>\n",
              "      <td>108491.02</td>\n",
              "      <td>109345.18</td>\n",
              "      <td>107604.12</td>\n",
              "      <td>0.0</td>\n",
              "    </tr>\n",
              "    <tr>\n",
              "      <th>max</th>\n",
              "      <td>109572.16</td>\n",
              "      <td>109580.57</td>\n",
              "      <td>109671.91</td>\n",
              "      <td>108360.22</td>\n",
              "      <td>0.0</td>\n",
              "    </tr>\n",
              "  </tbody>\n",
              "</table>\n",
              "</div>"
            ],
            "text/plain": [
              "            Open      Close       High        Low  Volume\n",
              "count      16.00      16.00      16.00      16.00    16.0\n",
              "mean   107684.60  107675.31  108396.47  106866.01     0.0\n",
              "std      1123.36    1129.51    1022.02    1030.38     0.0\n",
              "min    105866.12  105864.18  106757.61  105260.78     0.0\n",
              "25%    106704.84  106702.55  107513.57  106140.45     0.0\n",
              "50%    107908.72  107912.30  108460.00  106970.09     0.0\n",
              "75%    108491.02  108491.02  109345.18  107604.12     0.0\n",
              "max    109572.16  109580.57  109671.91  108360.22     0.0"
            ]
          },
          "metadata": {
            "tags": []
          },
          "execution_count": 170
        }
      ]
    },
    {
      "cell_type": "markdown",
      "metadata": {
        "id": "rz4IMPTPGs2k",
        "colab_type": "text"
      },
      "source": [
        "# Get index intervals (Date, Close)"
      ]
    },
    {
      "cell_type": "code",
      "metadata": {
        "id": "vHBid4mlGv9I",
        "colab_type": "code",
        "colab": {
          "base_uri": "https://localhost:8080/",
          "height": 545
        },
        "outputId": "f33b744c-be4d-4c4e-d16a-4ada32ca2a80"
      },
      "source": [
        "def get_date_close_index():\n",
        "  return index_csv_load.get(['Date', 'Close'])\n",
        "\n",
        "get_date_close_index()"
      ],
      "execution_count": 171,
      "outputs": [
        {
          "output_type": "execute_result",
          "data": {
            "text/html": [
              "<div>\n",
              "<style scoped>\n",
              "    .dataframe tbody tr th:only-of-type {\n",
              "        vertical-align: middle;\n",
              "    }\n",
              "\n",
              "    .dataframe tbody tr th {\n",
              "        vertical-align: top;\n",
              "    }\n",
              "\n",
              "    .dataframe thead th {\n",
              "        text-align: right;\n",
              "    }\n",
              "</style>\n",
              "<table border=\"1\" class=\"dataframe\">\n",
              "  <thead>\n",
              "    <tr style=\"text-align: right;\">\n",
              "      <th></th>\n",
              "      <th>Date</th>\n",
              "      <th>Close</th>\n",
              "    </tr>\n",
              "  </thead>\n",
              "  <tbody>\n",
              "    <tr>\n",
              "      <th>0</th>\n",
              "      <td>2019-11-26</td>\n",
              "      <td>107059.40</td>\n",
              "    </tr>\n",
              "    <tr>\n",
              "      <th>1</th>\n",
              "      <td>2019-11-25</td>\n",
              "      <td>108423.93</td>\n",
              "    </tr>\n",
              "    <tr>\n",
              "      <th>2</th>\n",
              "      <td>2019-11-22</td>\n",
              "      <td>108692.28</td>\n",
              "    </tr>\n",
              "    <tr>\n",
              "      <th>3</th>\n",
              "      <td>2019-11-21</td>\n",
              "      <td>107496.73</td>\n",
              "    </tr>\n",
              "    <tr>\n",
              "      <th>4</th>\n",
              "      <td>2019-11-19</td>\n",
              "      <td>105864.18</td>\n",
              "    </tr>\n",
              "    <tr>\n",
              "      <th>5</th>\n",
              "      <td>2019-11-18</td>\n",
              "      <td>106269.25</td>\n",
              "    </tr>\n",
              "    <tr>\n",
              "      <th>6</th>\n",
              "      <td>2019-11-14</td>\n",
              "      <td>106556.88</td>\n",
              "    </tr>\n",
              "    <tr>\n",
              "      <th>7</th>\n",
              "      <td>2019-11-13</td>\n",
              "      <td>106059.95</td>\n",
              "    </tr>\n",
              "    <tr>\n",
              "      <th>8</th>\n",
              "      <td>2019-11-12</td>\n",
              "      <td>106751.11</td>\n",
              "    </tr>\n",
              "    <tr>\n",
              "      <th>9</th>\n",
              "      <td>2019-11-11</td>\n",
              "      <td>108367.44</td>\n",
              "    </tr>\n",
              "    <tr>\n",
              "      <th>10</th>\n",
              "      <td>2019-11-08</td>\n",
              "      <td>107628.98</td>\n",
              "    </tr>\n",
              "    <tr>\n",
              "      <th>11</th>\n",
              "      <td>2019-11-07</td>\n",
              "      <td>109580.57</td>\n",
              "    </tr>\n",
              "    <tr>\n",
              "      <th>12</th>\n",
              "      <td>2019-11-06</td>\n",
              "      <td>108360.22</td>\n",
              "    </tr>\n",
              "    <tr>\n",
              "      <th>13</th>\n",
              "      <td>2019-11-05</td>\n",
              "      <td>108719.02</td>\n",
              "    </tr>\n",
              "    <tr>\n",
              "      <th>14</th>\n",
              "      <td>2019-11-04</td>\n",
              "      <td>108779.33</td>\n",
              "    </tr>\n",
              "    <tr>\n",
              "      <th>15</th>\n",
              "      <td>2019-11-01</td>\n",
              "      <td>108195.63</td>\n",
              "    </tr>\n",
              "  </tbody>\n",
              "</table>\n",
              "</div>"
            ],
            "text/plain": [
              "          Date      Close\n",
              "0   2019-11-26  107059.40\n",
              "1   2019-11-25  108423.93\n",
              "2   2019-11-22  108692.28\n",
              "3   2019-11-21  107496.73\n",
              "4   2019-11-19  105864.18\n",
              "5   2019-11-18  106269.25\n",
              "6   2019-11-14  106556.88\n",
              "7   2019-11-13  106059.95\n",
              "8   2019-11-12  106751.11\n",
              "9   2019-11-11  108367.44\n",
              "10  2019-11-08  107628.98\n",
              "11  2019-11-07  109580.57\n",
              "12  2019-11-06  108360.22\n",
              "13  2019-11-05  108719.02\n",
              "14  2019-11-04  108779.33\n",
              "15  2019-11-01  108195.63"
            ]
          },
          "metadata": {
            "tags": []
          },
          "execution_count": 171
        }
      ]
    },
    {
      "cell_type": "markdown",
      "metadata": {
        "id": "QCh84wHa_xbR",
        "colab_type": "text"
      },
      "source": [
        "# Describe data"
      ]
    },
    {
      "cell_type": "code",
      "metadata": {
        "id": "cM7E_9oNw78u",
        "colab_type": "code",
        "outputId": "019bc391-8b1c-42e5-ff48-a24f6e08bab3",
        "colab": {
          "base_uri": "https://localhost:8080/",
          "height": 297
        }
      },
      "source": [
        "def get_describe():\n",
        "  return round(stock_csv_load.describe(), 2)\n",
        "\n",
        "get_describe()"
      ],
      "execution_count": 172,
      "outputs": [
        {
          "output_type": "execute_result",
          "data": {
            "text/html": [
              "<div>\n",
              "<style scoped>\n",
              "    .dataframe tbody tr th:only-of-type {\n",
              "        vertical-align: middle;\n",
              "    }\n",
              "\n",
              "    .dataframe tbody tr th {\n",
              "        vertical-align: top;\n",
              "    }\n",
              "\n",
              "    .dataframe thead th {\n",
              "        text-align: right;\n",
              "    }\n",
              "</style>\n",
              "<table border=\"1\" class=\"dataframe\">\n",
              "  <thead>\n",
              "    <tr style=\"text-align: right;\">\n",
              "      <th></th>\n",
              "      <th>Open</th>\n",
              "      <th>Close</th>\n",
              "      <th>High</th>\n",
              "      <th>Low</th>\n",
              "      <th>Volume</th>\n",
              "    </tr>\n",
              "  </thead>\n",
              "  <tbody>\n",
              "    <tr>\n",
              "      <th>count</th>\n",
              "      <td>16.00</td>\n",
              "      <td>16.00</td>\n",
              "      <td>16.00</td>\n",
              "      <td>16.00</td>\n",
              "      <td>16.0</td>\n",
              "    </tr>\n",
              "    <tr>\n",
              "      <th>mean</th>\n",
              "      <td>44.72</td>\n",
              "      <td>44.56</td>\n",
              "      <td>45.48</td>\n",
              "      <td>43.66</td>\n",
              "      <td>15376100.0</td>\n",
              "    </tr>\n",
              "    <tr>\n",
              "      <th>std</th>\n",
              "      <td>1.28</td>\n",
              "      <td>1.15</td>\n",
              "      <td>1.29</td>\n",
              "      <td>0.98</td>\n",
              "      <td>6200188.7</td>\n",
              "    </tr>\n",
              "    <tr>\n",
              "      <th>min</th>\n",
              "      <td>42.70</td>\n",
              "      <td>42.50</td>\n",
              "      <td>42.88</td>\n",
              "      <td>41.70</td>\n",
              "      <td>8833400.0</td>\n",
              "    </tr>\n",
              "    <tr>\n",
              "      <th>25%</th>\n",
              "      <td>44.03</td>\n",
              "      <td>43.98</td>\n",
              "      <td>45.02</td>\n",
              "      <td>43.04</td>\n",
              "      <td>10694225.0</td>\n",
              "    </tr>\n",
              "    <tr>\n",
              "      <th>50%</th>\n",
              "      <td>44.92</td>\n",
              "      <td>44.38</td>\n",
              "      <td>45.38</td>\n",
              "      <td>43.53</td>\n",
              "      <td>11895000.0</td>\n",
              "    </tr>\n",
              "    <tr>\n",
              "      <th>75%</th>\n",
              "      <td>45.23</td>\n",
              "      <td>45.06</td>\n",
              "      <td>45.74</td>\n",
              "      <td>44.26</td>\n",
              "      <td>19346100.0</td>\n",
              "    </tr>\n",
              "    <tr>\n",
              "      <th>max</th>\n",
              "      <td>48.14</td>\n",
              "      <td>47.19</td>\n",
              "      <td>48.79</td>\n",
              "      <td>45.70</td>\n",
              "      <td>27655300.0</td>\n",
              "    </tr>\n",
              "  </tbody>\n",
              "</table>\n",
              "</div>"
            ],
            "text/plain": [
              "        Open  Close   High    Low      Volume\n",
              "count  16.00  16.00  16.00  16.00        16.0\n",
              "mean   44.72  44.56  45.48  43.66  15376100.0\n",
              "std     1.28   1.15   1.29   0.98   6200188.7\n",
              "min    42.70  42.50  42.88  41.70   8833400.0\n",
              "25%    44.03  43.98  45.02  43.04  10694225.0\n",
              "50%    44.92  44.38  45.38  43.53  11895000.0\n",
              "75%    45.23  45.06  45.74  44.26  19346100.0\n",
              "max    48.14  47.19  48.79  45.70  27655300.0"
            ]
          },
          "metadata": {
            "tags": []
          },
          "execution_count": 172
        }
      ]
    },
    {
      "cell_type": "markdown",
      "metadata": {
        "id": "Q--OkaQe_4dZ",
        "colab_type": "text"
      },
      "source": [
        "# Get data intervals (Date, Close)"
      ]
    },
    {
      "cell_type": "code",
      "metadata": {
        "id": "uZTfmimBwvCs",
        "colab_type": "code",
        "outputId": "e6a0d80a-b675-4c46-9cee-69622edbf60a",
        "colab": {
          "base_uri": "https://localhost:8080/",
          "height": 545
        }
      },
      "source": [
        "def get_date_close():\n",
        "  return stock_csv_load.get(['Date', 'Close'])\n",
        "\n",
        "get_date_close()"
      ],
      "execution_count": 173,
      "outputs": [
        {
          "output_type": "execute_result",
          "data": {
            "text/html": [
              "<div>\n",
              "<style scoped>\n",
              "    .dataframe tbody tr th:only-of-type {\n",
              "        vertical-align: middle;\n",
              "    }\n",
              "\n",
              "    .dataframe tbody tr th {\n",
              "        vertical-align: top;\n",
              "    }\n",
              "\n",
              "    .dataframe thead th {\n",
              "        text-align: right;\n",
              "    }\n",
              "</style>\n",
              "<table border=\"1\" class=\"dataframe\">\n",
              "  <thead>\n",
              "    <tr style=\"text-align: right;\">\n",
              "      <th></th>\n",
              "      <th>Date</th>\n",
              "      <th>Close</th>\n",
              "    </tr>\n",
              "  </thead>\n",
              "  <tbody>\n",
              "    <tr>\n",
              "      <th>0</th>\n",
              "      <td>2019-11-26</td>\n",
              "      <td>43.08</td>\n",
              "    </tr>\n",
              "    <tr>\n",
              "      <th>1</th>\n",
              "      <td>2019-11-25</td>\n",
              "      <td>44.30</td>\n",
              "    </tr>\n",
              "    <tr>\n",
              "      <th>2</th>\n",
              "      <td>2019-11-22</td>\n",
              "      <td>45.49</td>\n",
              "    </tr>\n",
              "    <tr>\n",
              "      <th>3</th>\n",
              "      <td>2019-11-21</td>\n",
              "      <td>45.00</td>\n",
              "    </tr>\n",
              "    <tr>\n",
              "      <th>4</th>\n",
              "      <td>2019-11-19</td>\n",
              "      <td>44.46</td>\n",
              "    </tr>\n",
              "    <tr>\n",
              "      <th>5</th>\n",
              "      <td>2019-11-18</td>\n",
              "      <td>44.98</td>\n",
              "    </tr>\n",
              "    <tr>\n",
              "      <th>6</th>\n",
              "      <td>2019-11-14</td>\n",
              "      <td>44.25</td>\n",
              "    </tr>\n",
              "    <tr>\n",
              "      <th>7</th>\n",
              "      <td>2019-11-13</td>\n",
              "      <td>42.50</td>\n",
              "    </tr>\n",
              "    <tr>\n",
              "      <th>8</th>\n",
              "      <td>2019-11-12</td>\n",
              "      <td>43.40</td>\n",
              "    </tr>\n",
              "    <tr>\n",
              "      <th>9</th>\n",
              "      <td>2019-11-11</td>\n",
              "      <td>45.02</td>\n",
              "    </tr>\n",
              "    <tr>\n",
              "      <th>10</th>\n",
              "      <td>2019-11-08</td>\n",
              "      <td>43.81</td>\n",
              "    </tr>\n",
              "    <tr>\n",
              "      <th>11</th>\n",
              "      <td>2019-11-07</td>\n",
              "      <td>44.20</td>\n",
              "    </tr>\n",
              "    <tr>\n",
              "      <th>12</th>\n",
              "      <td>2019-11-06</td>\n",
              "      <td>45.20</td>\n",
              "    </tr>\n",
              "    <tr>\n",
              "      <th>13</th>\n",
              "      <td>2019-11-05</td>\n",
              "      <td>44.04</td>\n",
              "    </tr>\n",
              "    <tr>\n",
              "      <th>14</th>\n",
              "      <td>2019-11-04</td>\n",
              "      <td>46.00</td>\n",
              "    </tr>\n",
              "    <tr>\n",
              "      <th>15</th>\n",
              "      <td>2019-11-01</td>\n",
              "      <td>47.19</td>\n",
              "    </tr>\n",
              "  </tbody>\n",
              "</table>\n",
              "</div>"
            ],
            "text/plain": [
              "          Date  Close\n",
              "0   2019-11-26  43.08\n",
              "1   2019-11-25  44.30\n",
              "2   2019-11-22  45.49\n",
              "3   2019-11-21  45.00\n",
              "4   2019-11-19  44.46\n",
              "5   2019-11-18  44.98\n",
              "6   2019-11-14  44.25\n",
              "7   2019-11-13  42.50\n",
              "8   2019-11-12  43.40\n",
              "9   2019-11-11  45.02\n",
              "10  2019-11-08  43.81\n",
              "11  2019-11-07  44.20\n",
              "12  2019-11-06  45.20\n",
              "13  2019-11-05  44.04\n",
              "14  2019-11-04  46.00\n",
              "15  2019-11-01  47.19"
            ]
          },
          "metadata": {
            "tags": []
          },
          "execution_count": 173
        }
      ]
    }
  ]
}