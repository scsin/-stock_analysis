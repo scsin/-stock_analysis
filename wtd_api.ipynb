{
  "nbformat": 4,
  "nbformat_minor": 0,
  "metadata": {
    "colab": {
      "name": "wtd_api.ipynb",
      "provenance": [],
      "collapsed_sections": [],
      "include_colab_link": true
    },
    "kernelspec": {
      "name": "python3",
      "display_name": "Python 3"
    }
  },
  "cells": [
    {
      "cell_type": "markdown",
      "metadata": {
        "id": "view-in-github",
        "colab_type": "text"
      },
      "source": [
        "<a href=\"https://colab.research.google.com/github/scsin/stock_analysis/blob/master/wtd_api.ipynb\" target=\"_parent\"><img src=\"https://colab.research.google.com/assets/colab-badge.svg\" alt=\"Open In Colab\"/></a>"
      ]
    },
    {
      "cell_type": "markdown",
      "metadata": {
        "id": "k3viK3lZ_AVm",
        "colab_type": "text"
      },
      "source": [
        "# Install and import libraries"
      ]
    },
    {
      "cell_type": "code",
      "metadata": {
        "id": "W5iN_yvn1dD3",
        "colab_type": "code",
        "colab": {}
      },
      "source": [
        "!pip install ipython-secrets && install gsheet-keyring"
      ],
      "execution_count": 0,
      "outputs": []
    },
    {
      "cell_type": "code",
      "metadata": {
        "id": "iZHTZU8j1inF",
        "colab_type": "code",
        "colab": {}
      },
      "source": [
        "import pandas as pd\n",
        "import datetime\n",
        "import requests\n",
        "import seaborn as sns\n",
        "import matplotlib.pyplot as plt\n",
        "from ipython_secrets import *"
      ],
      "execution_count": 0,
      "outputs": []
    },
    {
      "cell_type": "markdown",
      "metadata": {
        "id": "qZDTwiOP_GVl",
        "colab_type": "text"
      },
      "source": [
        "# Stock definition, start date and end date"
      ]
    },
    {
      "cell_type": "code",
      "metadata": {
        "id": "RVr5MsCu1lzV",
        "colab_type": "code",
        "colab": {}
      },
      "source": [
        "index = '^IBOV'\n",
        "stock = 'MGLU3'\n",
        "start_date = '2018-11-27'\n",
        "end_date = datetime.date.today()"
      ],
      "execution_count": 0,
      "outputs": []
    },
    {
      "cell_type": "markdown",
      "metadata": {
        "id": "7GTh3VdD_WAa",
        "colab_type": "text"
      },
      "source": [
        "# API Get and save response in csv file"
      ]
    },
    {
      "cell_type": "code",
      "metadata": {
        "id": "_LFds04T_U3K",
        "colab_type": "code",
        "colab": {}
      },
      "source": [
        "my_wtd_token = get_secret('token')\n",
        "\n",
        "req_index = requests.get(f'https://api.worldtradingdata.com/api/v1/history?symbol={index}&date_from={start_date}&date_to={end_date}&api_token={my_wtd_token}&output=csv')\n",
        "\n",
        "req_stock = requests.get(f'https://api.worldtradingdata.com/api/v1/history?symbol={stock}.SA&date_from={start_date}&date_to={end_date}&api_token={my_wtd_token}&output=csv')\n",
        "\n",
        "with open(f\"{index}.csv\", \"wb\") as f:\n",
        "  f.write(req_index.content)\n",
        "  \n",
        "with open(f\"{stock}.csv\",'wb') as f: \n",
        "  f.write(req_stock.content)\n",
        "\n",
        "index_csv_load = pd.read_csv(f'{index}.csv')\n",
        "stock_csv_load = pd.read_csv(f'{stock}.csv')"
      ],
      "execution_count": 0,
      "outputs": []
    },
    {
      "cell_type": "markdown",
      "metadata": {
        "id": "PgqCENReGj4K",
        "colab_type": "text"
      },
      "source": [
        "# Describe"
      ]
    },
    {
      "cell_type": "code",
      "metadata": {
        "id": "OltCNo4eGerY",
        "colab_type": "code",
        "colab": {}
      },
      "source": [
        "def get_describe(file_csv):\n",
        "  return round(file_csv.describe(), 2)"
      ],
      "execution_count": 0,
      "outputs": []
    },
    {
      "cell_type": "code",
      "metadata": {
        "id": "XEdQpXrvQr6J",
        "colab_type": "code",
        "outputId": "c31db6d5-14bc-41a0-cb4c-64a1536e0694",
        "colab": {
          "base_uri": "https://localhost:8080/",
          "height": 314
        }
      },
      "source": [
        "print(index)\n",
        "get_describe(index_csv_load)"
      ],
      "execution_count": 0,
      "outputs": [
        {
          "output_type": "stream",
          "text": [
            "^IBOV\n"
          ],
          "name": "stdout"
        },
        {
          "output_type": "execute_result",
          "data": {
            "text/html": [
              "<div>\n",
              "<style scoped>\n",
              "    .dataframe tbody tr th:only-of-type {\n",
              "        vertical-align: middle;\n",
              "    }\n",
              "\n",
              "    .dataframe tbody tr th {\n",
              "        vertical-align: top;\n",
              "    }\n",
              "\n",
              "    .dataframe thead th {\n",
              "        text-align: right;\n",
              "    }\n",
              "</style>\n",
              "<table border=\"1\" class=\"dataframe\">\n",
              "  <thead>\n",
              "    <tr style=\"text-align: right;\">\n",
              "      <th></th>\n",
              "      <th>Open</th>\n",
              "      <th>Close</th>\n",
              "      <th>High</th>\n",
              "      <th>Low</th>\n",
              "      <th>Volume</th>\n",
              "    </tr>\n",
              "  </thead>\n",
              "  <tbody>\n",
              "    <tr>\n",
              "      <th>count</th>\n",
              "      <td>249.00</td>\n",
              "      <td>249.00</td>\n",
              "      <td>249.00</td>\n",
              "      <td>249.00</td>\n",
              "      <td>249.0</td>\n",
              "    </tr>\n",
              "    <tr>\n",
              "      <th>mean</th>\n",
              "      <td>98422.35</td>\n",
              "      <td>98510.57</td>\n",
              "      <td>99251.05</td>\n",
              "      <td>97661.59</td>\n",
              "      <td>0.0</td>\n",
              "    </tr>\n",
              "    <tr>\n",
              "      <th>std</th>\n",
              "      <td>5740.89</td>\n",
              "      <td>5712.86</td>\n",
              "      <td>5635.17</td>\n",
              "      <td>5763.16</td>\n",
              "      <td>0.0</td>\n",
              "    </tr>\n",
              "    <tr>\n",
              "      <th>min</th>\n",
              "      <td>85140.60</td>\n",
              "      <td>85136.10</td>\n",
              "      <td>85684.26</td>\n",
              "      <td>83891.74</td>\n",
              "      <td>0.0</td>\n",
              "    </tr>\n",
              "    <tr>\n",
              "      <th>25%</th>\n",
              "      <td>94654.00</td>\n",
              "      <td>94754.70</td>\n",
              "      <td>95641.51</td>\n",
              "      <td>93883.23</td>\n",
              "      <td>0.0</td>\n",
              "    </tr>\n",
              "    <tr>\n",
              "      <th>50%</th>\n",
              "      <td>97861.27</td>\n",
              "      <td>97885.60</td>\n",
              "      <td>98435.96</td>\n",
              "      <td>97087.23</td>\n",
              "      <td>0.0</td>\n",
              "    </tr>\n",
              "    <tr>\n",
              "      <th>75%</th>\n",
              "      <td>103451.93</td>\n",
              "      <td>103451.93</td>\n",
              "      <td>104155.86</td>\n",
              "      <td>102596.13</td>\n",
              "      <td>0.0</td>\n",
              "    </tr>\n",
              "    <tr>\n",
              "      <th>max</th>\n",
              "      <td>109572.16</td>\n",
              "      <td>109580.57</td>\n",
              "      <td>109671.91</td>\n",
              "      <td>108360.22</td>\n",
              "      <td>0.0</td>\n",
              "    </tr>\n",
              "  </tbody>\n",
              "</table>\n",
              "</div>"
            ],
            "text/plain": [
              "            Open      Close       High        Low  Volume\n",
              "count     249.00     249.00     249.00     249.00   249.0\n",
              "mean    98422.35   98510.57   99251.05   97661.59     0.0\n",
              "std      5740.89    5712.86    5635.17    5763.16     0.0\n",
              "min     85140.60   85136.10   85684.26   83891.74     0.0\n",
              "25%     94654.00   94754.70   95641.51   93883.23     0.0\n",
              "50%     97861.27   97885.60   98435.96   97087.23     0.0\n",
              "75%    103451.93  103451.93  104155.86  102596.13     0.0\n",
              "max    109572.16  109580.57  109671.91  108360.22     0.0"
            ]
          },
          "metadata": {
            "tags": []
          },
          "execution_count": 179
        }
      ]
    },
    {
      "cell_type": "code",
      "metadata": {
        "id": "5e2Hbv8tQtsn",
        "colab_type": "code",
        "outputId": "2d418c87-d7ee-401d-86bd-0be7f2c1d40f",
        "colab": {
          "base_uri": "https://localhost:8080/",
          "height": 314
        }
      },
      "source": [
        "print(stock)\n",
        "get_describe(stock_csv_load)"
      ],
      "execution_count": 0,
      "outputs": [
        {
          "output_type": "stream",
          "text": [
            "MGLU3\n"
          ],
          "name": "stdout"
        },
        {
          "output_type": "execute_result",
          "data": {
            "text/html": [
              "<div>\n",
              "<style scoped>\n",
              "    .dataframe tbody tr th:only-of-type {\n",
              "        vertical-align: middle;\n",
              "    }\n",
              "\n",
              "    .dataframe tbody tr th {\n",
              "        vertical-align: top;\n",
              "    }\n",
              "\n",
              "    .dataframe thead th {\n",
              "        text-align: right;\n",
              "    }\n",
              "</style>\n",
              "<table border=\"1\" class=\"dataframe\">\n",
              "  <thead>\n",
              "    <tr style=\"text-align: right;\">\n",
              "      <th></th>\n",
              "      <th>Open</th>\n",
              "      <th>Close</th>\n",
              "      <th>High</th>\n",
              "      <th>Low</th>\n",
              "      <th>Volume</th>\n",
              "    </tr>\n",
              "  </thead>\n",
              "  <tbody>\n",
              "    <tr>\n",
              "      <th>count</th>\n",
              "      <td>249.00</td>\n",
              "      <td>249.00</td>\n",
              "      <td>249.00</td>\n",
              "      <td>249.00</td>\n",
              "      <td>249.00</td>\n",
              "    </tr>\n",
              "    <tr>\n",
              "      <th>mean</th>\n",
              "      <td>28.57</td>\n",
              "      <td>28.57</td>\n",
              "      <td>29.05</td>\n",
              "      <td>28.06</td>\n",
              "      <td>4505993.57</td>\n",
              "    </tr>\n",
              "    <tr>\n",
              "      <th>std</th>\n",
              "      <td>8.19</td>\n",
              "      <td>8.19</td>\n",
              "      <td>8.36</td>\n",
              "      <td>8.00</td>\n",
              "      <td>5818249.45</td>\n",
              "    </tr>\n",
              "    <tr>\n",
              "      <th>min</th>\n",
              "      <td>20.04</td>\n",
              "      <td>19.98</td>\n",
              "      <td>20.56</td>\n",
              "      <td>19.78</td>\n",
              "      <td>426200.00</td>\n",
              "    </tr>\n",
              "    <tr>\n",
              "      <th>25%</th>\n",
              "      <td>21.86</td>\n",
              "      <td>21.78</td>\n",
              "      <td>22.11</td>\n",
              "      <td>21.40</td>\n",
              "      <td>884300.00</td>\n",
              "    </tr>\n",
              "    <tr>\n",
              "      <th>50%</th>\n",
              "      <td>24.25</td>\n",
              "      <td>24.32</td>\n",
              "      <td>24.81</td>\n",
              "      <td>23.91</td>\n",
              "      <td>1269900.00</td>\n",
              "    </tr>\n",
              "    <tr>\n",
              "      <th>75%</th>\n",
              "      <td>36.28</td>\n",
              "      <td>36.29</td>\n",
              "      <td>36.90</td>\n",
              "      <td>35.53</td>\n",
              "      <td>7602600.00</td>\n",
              "    </tr>\n",
              "    <tr>\n",
              "      <th>max</th>\n",
              "      <td>48.14</td>\n",
              "      <td>47.19</td>\n",
              "      <td>48.79</td>\n",
              "      <td>45.70</td>\n",
              "      <td>32093300.00</td>\n",
              "    </tr>\n",
              "  </tbody>\n",
              "</table>\n",
              "</div>"
            ],
            "text/plain": [
              "         Open   Close    High     Low       Volume\n",
              "count  249.00  249.00  249.00  249.00       249.00\n",
              "mean    28.57   28.57   29.05   28.06   4505993.57\n",
              "std      8.19    8.19    8.36    8.00   5818249.45\n",
              "min     20.04   19.98   20.56   19.78    426200.00\n",
              "25%     21.86   21.78   22.11   21.40    884300.00\n",
              "50%     24.25   24.32   24.81   23.91   1269900.00\n",
              "75%     36.28   36.29   36.90   35.53   7602600.00\n",
              "max     48.14   47.19   48.79   45.70  32093300.00"
            ]
          },
          "metadata": {
            "tags": []
          },
          "execution_count": 180
        }
      ]
    },
    {
      "cell_type": "markdown",
      "metadata": {
        "id": "rz4IMPTPGs2k",
        "colab_type": "text"
      },
      "source": [
        "# Get intervals (Date, Close)"
      ]
    },
    {
      "cell_type": "code",
      "metadata": {
        "id": "vHBid4mlGv9I",
        "colab_type": "code",
        "colab": {}
      },
      "source": [
        "def get_date_close(file_csv):\n",
        "  return file_csv.get(['Date', 'Close'])"
      ],
      "execution_count": 0,
      "outputs": []
    },
    {
      "cell_type": "code",
      "metadata": {
        "id": "U7GxEahCQCUr",
        "colab_type": "code",
        "outputId": "a62e98a4-d1c4-43e2-ab1d-c109f58030b4",
        "colab": {
          "base_uri": "https://localhost:8080/",
          "height": 436
        }
      },
      "source": [
        "print(index)\n",
        "get_date_close(index_csv_load)"
      ],
      "execution_count": 0,
      "outputs": [
        {
          "output_type": "stream",
          "text": [
            "^IBOV\n"
          ],
          "name": "stdout"
        },
        {
          "output_type": "execute_result",
          "data": {
            "text/html": [
              "<div>\n",
              "<style scoped>\n",
              "    .dataframe tbody tr th:only-of-type {\n",
              "        vertical-align: middle;\n",
              "    }\n",
              "\n",
              "    .dataframe tbody tr th {\n",
              "        vertical-align: top;\n",
              "    }\n",
              "\n",
              "    .dataframe thead th {\n",
              "        text-align: right;\n",
              "    }\n",
              "</style>\n",
              "<table border=\"1\" class=\"dataframe\">\n",
              "  <thead>\n",
              "    <tr style=\"text-align: right;\">\n",
              "      <th></th>\n",
              "      <th>Date</th>\n",
              "      <th>Close</th>\n",
              "    </tr>\n",
              "  </thead>\n",
              "  <tbody>\n",
              "    <tr>\n",
              "      <th>0</th>\n",
              "      <td>2019-11-27</td>\n",
              "      <td>107707.75</td>\n",
              "    </tr>\n",
              "    <tr>\n",
              "      <th>1</th>\n",
              "      <td>2019-11-26</td>\n",
              "      <td>107059.40</td>\n",
              "    </tr>\n",
              "    <tr>\n",
              "      <th>2</th>\n",
              "      <td>2019-11-25</td>\n",
              "      <td>108423.93</td>\n",
              "    </tr>\n",
              "    <tr>\n",
              "      <th>3</th>\n",
              "      <td>2019-11-22</td>\n",
              "      <td>108692.28</td>\n",
              "    </tr>\n",
              "    <tr>\n",
              "      <th>4</th>\n",
              "      <td>2019-11-21</td>\n",
              "      <td>107496.73</td>\n",
              "    </tr>\n",
              "    <tr>\n",
              "      <th>...</th>\n",
              "      <td>...</td>\n",
              "      <td>...</td>\n",
              "    </tr>\n",
              "    <tr>\n",
              "      <th>244</th>\n",
              "      <td>2018-12-03</td>\n",
              "      <td>89820.09</td>\n",
              "    </tr>\n",
              "    <tr>\n",
              "      <th>245</th>\n",
              "      <td>2018-11-30</td>\n",
              "      <td>89504.03</td>\n",
              "    </tr>\n",
              "    <tr>\n",
              "      <th>246</th>\n",
              "      <td>2018-11-29</td>\n",
              "      <td>89709.56</td>\n",
              "    </tr>\n",
              "    <tr>\n",
              "      <th>247</th>\n",
              "      <td>2018-11-28</td>\n",
              "      <td>89250.82</td>\n",
              "    </tr>\n",
              "    <tr>\n",
              "      <th>248</th>\n",
              "      <td>2018-11-27</td>\n",
              "      <td>87891.18</td>\n",
              "    </tr>\n",
              "  </tbody>\n",
              "</table>\n",
              "<p>249 rows × 2 columns</p>\n",
              "</div>"
            ],
            "text/plain": [
              "           Date      Close\n",
              "0    2019-11-27  107707.75\n",
              "1    2019-11-26  107059.40\n",
              "2    2019-11-25  108423.93\n",
              "3    2019-11-22  108692.28\n",
              "4    2019-11-21  107496.73\n",
              "..          ...        ...\n",
              "244  2018-12-03   89820.09\n",
              "245  2018-11-30   89504.03\n",
              "246  2018-11-29   89709.56\n",
              "247  2018-11-28   89250.82\n",
              "248  2018-11-27   87891.18\n",
              "\n",
              "[249 rows x 2 columns]"
            ]
          },
          "metadata": {
            "tags": []
          },
          "execution_count": 182
        }
      ]
    },
    {
      "cell_type": "code",
      "metadata": {
        "id": "SM-Sa4SMQEzE",
        "colab_type": "code",
        "outputId": "f1359080-a3dc-46f1-8435-7db1f347230a",
        "colab": {
          "base_uri": "https://localhost:8080/",
          "height": 436
        }
      },
      "source": [
        "print(stock)\n",
        "get_date_close(stock_csv_load)"
      ],
      "execution_count": 0,
      "outputs": [
        {
          "output_type": "stream",
          "text": [
            "MGLU3\n"
          ],
          "name": "stdout"
        },
        {
          "output_type": "execute_result",
          "data": {
            "text/html": [
              "<div>\n",
              "<style scoped>\n",
              "    .dataframe tbody tr th:only-of-type {\n",
              "        vertical-align: middle;\n",
              "    }\n",
              "\n",
              "    .dataframe tbody tr th {\n",
              "        vertical-align: top;\n",
              "    }\n",
              "\n",
              "    .dataframe thead th {\n",
              "        text-align: right;\n",
              "    }\n",
              "</style>\n",
              "<table border=\"1\" class=\"dataframe\">\n",
              "  <thead>\n",
              "    <tr style=\"text-align: right;\">\n",
              "      <th></th>\n",
              "      <th>Date</th>\n",
              "      <th>Close</th>\n",
              "    </tr>\n",
              "  </thead>\n",
              "  <tbody>\n",
              "    <tr>\n",
              "      <th>0</th>\n",
              "      <td>2019-11-27</td>\n",
              "      <td>45.60</td>\n",
              "    </tr>\n",
              "    <tr>\n",
              "      <th>1</th>\n",
              "      <td>2019-11-26</td>\n",
              "      <td>43.04</td>\n",
              "    </tr>\n",
              "    <tr>\n",
              "      <th>2</th>\n",
              "      <td>2019-11-25</td>\n",
              "      <td>44.30</td>\n",
              "    </tr>\n",
              "    <tr>\n",
              "      <th>3</th>\n",
              "      <td>2019-11-22</td>\n",
              "      <td>45.49</td>\n",
              "    </tr>\n",
              "    <tr>\n",
              "      <th>4</th>\n",
              "      <td>2019-11-21</td>\n",
              "      <td>45.00</td>\n",
              "    </tr>\n",
              "    <tr>\n",
              "      <th>...</th>\n",
              "      <td>...</td>\n",
              "      <td>...</td>\n",
              "    </tr>\n",
              "    <tr>\n",
              "      <th>244</th>\n",
              "      <td>2018-12-03</td>\n",
              "      <td>20.27</td>\n",
              "    </tr>\n",
              "    <tr>\n",
              "      <th>245</th>\n",
              "      <td>2018-11-30</td>\n",
              "      <td>20.58</td>\n",
              "    </tr>\n",
              "    <tr>\n",
              "      <th>246</th>\n",
              "      <td>2018-11-29</td>\n",
              "      <td>21.41</td>\n",
              "    </tr>\n",
              "    <tr>\n",
              "      <th>247</th>\n",
              "      <td>2018-11-28</td>\n",
              "      <td>21.26</td>\n",
              "    </tr>\n",
              "    <tr>\n",
              "      <th>248</th>\n",
              "      <td>2018-11-27</td>\n",
              "      <td>21.10</td>\n",
              "    </tr>\n",
              "  </tbody>\n",
              "</table>\n",
              "<p>249 rows × 2 columns</p>\n",
              "</div>"
            ],
            "text/plain": [
              "           Date  Close\n",
              "0    2019-11-27  45.60\n",
              "1    2019-11-26  43.04\n",
              "2    2019-11-25  44.30\n",
              "3    2019-11-22  45.49\n",
              "4    2019-11-21  45.00\n",
              "..          ...    ...\n",
              "244  2018-12-03  20.27\n",
              "245  2018-11-30  20.58\n",
              "246  2018-11-29  21.41\n",
              "247  2018-11-28  21.26\n",
              "248  2018-11-27  21.10\n",
              "\n",
              "[249 rows x 2 columns]"
            ]
          },
          "metadata": {
            "tags": []
          },
          "execution_count": 183
        }
      ]
    },
    {
      "cell_type": "markdown",
      "metadata": {
        "id": "pjwjYMsXSnuT",
        "colab_type": "text"
      },
      "source": [
        "# Data visualization"
      ]
    },
    {
      "cell_type": "code",
      "metadata": {
        "id": "ouEfvSujSmgD",
        "colab_type": "code",
        "colab": {}
      },
      "source": [
        "def chart(file_csv):\n",
        "  file_asc = file_csv.sort_values('Date', ascending=True)\n",
        "  return plt.plot(pd.DataFrame(data=file_asc).columns[0], pd.DataFrame(data=file_asc).columns[1], data=file_asc)"
      ],
      "execution_count": 0,
      "outputs": []
    },
    {
      "cell_type": "code",
      "metadata": {
        "id": "DvkRxNbYWPkF",
        "colab_type": "code",
        "outputId": "fd8cb07c-4ff9-4093-a1ba-3e66c28d8229",
        "colab": {
          "base_uri": "https://localhost:8080/",
          "height": 299
        }
      },
      "source": [
        "print(index)\n",
        "chart(get_date_close(index_csv_load))"
      ],
      "execution_count": 199,
      "outputs": [
        {
          "output_type": "stream",
          "text": [
            "^IBOV\n"
          ],
          "name": "stdout"
        },
        {
          "output_type": "execute_result",
          "data": {
            "text/plain": [
              "[<matplotlib.lines.Line2D at 0x7f32d73cb710>]"
            ]
          },
          "metadata": {
            "tags": []
          },
          "execution_count": 199
        },
        {
          "output_type": "display_data",
          "data": {
            "image/png": "[encoded data removed]",
            "text/plain": [
              "<Figure size 432x288 with 1 Axes>"
            ]
          },
          "metadata": {
            "tags": []
          }
        }
      ]
    },
    {
      "cell_type": "code",
      "metadata": {
        "id": "76kyJ31VS5cj",
        "colab_type": "code",
        "outputId": "2f3d1b7e-5c54-4164-b5ab-075b7aab3a21",
        "colab": {
          "base_uri": "https://localhost:8080/",
          "height": 299
        }
      },
      "source": [
        "print(stock)\n",
        "chart(get_date_close(stock_csv_load))"
      ],
      "execution_count": 200,
      "outputs": [
        {
          "output_type": "stream",
          "text": [
            "MGLU3\n"
          ],
          "name": "stdout"
        },
        {
          "output_type": "execute_result",
          "data": {
            "text/plain": [
              "[<matplotlib.lines.Line2D at 0x7f32d710f860>]"
            ]
          },
          "metadata": {
            "tags": []
          },
          "execution_count": 200
        },
        {
          "output_type": "display_data",
          "data": {
            "image/png": "[encoded data removed]",
            "text/plain": [
              "<Figure size 432x288 with 1 Axes>"
            ]
          },
          "metadata": {
            "tags": []
          }
        }
      ]
    },
    {
      "cell_type": "code",
      "metadata": {
        "id": "Iqe3lNadUAw2",
        "colab_type": "code",
        "outputId": "b0107fd6-9869-4133-c410-c6aaa10c3600",
        "colab": {
          "base_uri": "https://localhost:8080/",
          "height": 313
        }
      },
      "source": [
        "print(stock)\n",
        "sns.boxplot(stock_csv_load.Close)"
      ],
      "execution_count": 196,
      "outputs": [
        {
          "output_type": "stream",
          "text": [
            "MGLU3\n"
          ],
          "name": "stdout"
        },
        {
          "output_type": "execute_result",
          "data": {
            "text/plain": [
              "<matplotlib.axes._subplots.AxesSubplot at 0x7f32d796e978>"
            ]
          },
          "metadata": {
            "tags": []
          },
          "execution_count": 196
        },
        {
          "output_type": "display_data",
          "data": {
            "image/png": "[encoded data removed]",
            "text/plain": [
              "<Figure size 432x288 with 1 Axes>"
            ]
          },
          "metadata": {
            "tags": []
          }
        }
      ]
    }
  ]
}