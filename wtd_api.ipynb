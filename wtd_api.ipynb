{
  "nbformat": 4,
  "nbformat_minor": 0,
  "metadata": {
    "colab": {
      "name": "wtd_api.ipynb",
      "provenance": [],
      "collapsed_sections": [],
      "include_colab_link": true
    },
    "kernelspec": {
      "name": "python3",
      "display_name": "Python 3"
    }
  },
  "cells": [
    {
      "cell_type": "markdown",
      "metadata": {
        "id": "view-in-github",
        "colab_type": "text"
      },
      "source": [
        "<a href=\"https://colab.research.google.com/github/scsin/stock_analysis/blob/master/wtd_api.ipynb\" target=\"_parent\"><img src=\"https://colab.research.google.com/assets/colab-badge.svg\" alt=\"Open In Colab\"/></a>"
      ]
    },
    {
      "cell_type": "markdown",
      "metadata": {
        "id": "k3viK3lZ_AVm",
        "colab_type": "text"
      },
      "source": [
        "# Install and import libraries"
      ]
    },
    {
      "cell_type": "code",
      "metadata": {
        "id": "W5iN_yvn1dD3",
        "colab_type": "code",
        "colab": {}
      },
      "source": [
        "!pip install ipython-secrets && install gsheet-keyring"
      ],
      "execution_count": 0,
      "outputs": []
    },
    {
      "cell_type": "code",
      "metadata": {
        "id": "iZHTZU8j1inF",
        "colab_type": "code",
        "colab": {}
      },
      "source": [
        "import pandas as pd\n",
        "import datetime\n",
        "import requests\n",
        "from ipython_secrets import *"
      ],
      "execution_count": 0,
      "outputs": []
    },
    {
      "cell_type": "markdown",
      "metadata": {
        "id": "qZDTwiOP_GVl",
        "colab_type": "text"
      },
      "source": [
        "# Stock definition, start date and end date"
      ]
    },
    {
      "cell_type": "code",
      "metadata": {
        "id": "RVr5MsCu1lzV",
        "colab_type": "code",
        "colab": {}
      },
      "source": [
        "stock = 'MGLU3'\n",
        "start_date = '2019-11-01'\n",
        "end_date = datetime.date.today()"
      ],
      "execution_count": 0,
      "outputs": []
    },
    {
      "cell_type": "markdown",
      "metadata": {
        "id": "7GTh3VdD_WAa",
        "colab_type": "text"
      },
      "source": [
        "# API Get and save response in csv file"
      ]
    },
    {
      "cell_type": "code",
      "metadata": {
        "id": "_LFds04T_U3K",
        "colab_type": "code",
        "colab": {}
      },
      "source": [
        "req = requests.get(f'https://api.worldtradingdata.com/api/v1/history?symbol={stock}.SA&date_from={start_date}&date_to={end_date}&api_token={my_wtd_token}&output=csv')\n",
        "\n",
        "with open(f\"{stock}.csv\",'wb') as f: \n",
        "    f.write(req.content) \n",
        "\n",
        "stock_csv_load = pd.read_csv(f'{stock}.csv')"
      ],
      "execution_count": 0,
      "outputs": []
    },
    {
      "cell_type": "markdown",
      "metadata": {
        "id": "QCh84wHa_xbR",
        "colab_type": "text"
      },
      "source": [
        "# Describe data"
      ]
    },
    {
      "cell_type": "code",
      "metadata": {
        "id": "cM7E_9oNw78u",
        "colab_type": "code",
        "colab": {
          "base_uri": "https://localhost:8080/",
          "height": 297
        },
        "outputId": "ccbe97d8-e87b-4ae5-ed3c-73f38b247d89"
      },
      "source": [
        "def get_describe():\n",
        "  return stock_csv_load.describe()\n",
        "\n",
        "get_describe()"
      ],
      "execution_count": 116,
      "outputs": [
        {
          "output_type": "execute_result",
          "data": {
            "text/html": [
              "<div>\n",
              "<style scoped>\n",
              "    .dataframe tbody tr th:only-of-type {\n",
              "        vertical-align: middle;\n",
              "    }\n",
              "\n",
              "    .dataframe tbody tr th {\n",
              "        vertical-align: top;\n",
              "    }\n",
              "\n",
              "    .dataframe thead th {\n",
              "        text-align: right;\n",
              "    }\n",
              "</style>\n",
              "<table border=\"1\" class=\"dataframe\">\n",
              "  <thead>\n",
              "    <tr style=\"text-align: right;\">\n",
              "      <th></th>\n",
              "      <th>Open</th>\n",
              "      <th>Close</th>\n",
              "      <th>High</th>\n",
              "      <th>Low</th>\n",
              "      <th>Volume</th>\n",
              "    </tr>\n",
              "  </thead>\n",
              "  <tbody>\n",
              "    <tr>\n",
              "      <th>count</th>\n",
              "      <td>16.000000</td>\n",
              "      <td>16.000000</td>\n",
              "      <td>16.000000</td>\n",
              "      <td>16.000000</td>\n",
              "      <td>1.600000e+01</td>\n",
              "    </tr>\n",
              "    <tr>\n",
              "      <th>mean</th>\n",
              "      <td>44.722500</td>\n",
              "      <td>44.557500</td>\n",
              "      <td>45.478750</td>\n",
              "      <td>43.660625</td>\n",
              "      <td>1.537610e+07</td>\n",
              "    </tr>\n",
              "    <tr>\n",
              "      <th>std</th>\n",
              "      <td>1.283918</td>\n",
              "      <td>1.147818</td>\n",
              "      <td>1.294717</td>\n",
              "      <td>0.977538</td>\n",
              "      <td>6.200189e+06</td>\n",
              "    </tr>\n",
              "    <tr>\n",
              "      <th>min</th>\n",
              "      <td>42.700000</td>\n",
              "      <td>42.500000</td>\n",
              "      <td>42.880000</td>\n",
              "      <td>41.700000</td>\n",
              "      <td>8.833400e+06</td>\n",
              "    </tr>\n",
              "    <tr>\n",
              "      <th>25%</th>\n",
              "      <td>44.027500</td>\n",
              "      <td>43.982500</td>\n",
              "      <td>45.015000</td>\n",
              "      <td>43.040000</td>\n",
              "      <td>1.069422e+07</td>\n",
              "    </tr>\n",
              "    <tr>\n",
              "      <th>50%</th>\n",
              "      <td>44.920000</td>\n",
              "      <td>44.380000</td>\n",
              "      <td>45.380000</td>\n",
              "      <td>43.525000</td>\n",
              "      <td>1.189500e+07</td>\n",
              "    </tr>\n",
              "    <tr>\n",
              "      <th>75%</th>\n",
              "      <td>45.230000</td>\n",
              "      <td>45.065000</td>\n",
              "      <td>45.742500</td>\n",
              "      <td>44.262500</td>\n",
              "      <td>1.934610e+07</td>\n",
              "    </tr>\n",
              "    <tr>\n",
              "      <th>max</th>\n",
              "      <td>48.140000</td>\n",
              "      <td>47.190000</td>\n",
              "      <td>48.790000</td>\n",
              "      <td>45.700000</td>\n",
              "      <td>2.765530e+07</td>\n",
              "    </tr>\n",
              "  </tbody>\n",
              "</table>\n",
              "</div>"
            ],
            "text/plain": [
              "            Open      Close       High        Low        Volume\n",
              "count  16.000000  16.000000  16.000000  16.000000  1.600000e+01\n",
              "mean   44.722500  44.557500  45.478750  43.660625  1.537610e+07\n",
              "std     1.283918   1.147818   1.294717   0.977538  6.200189e+06\n",
              "min    42.700000  42.500000  42.880000  41.700000  8.833400e+06\n",
              "25%    44.027500  43.982500  45.015000  43.040000  1.069422e+07\n",
              "50%    44.920000  44.380000  45.380000  43.525000  1.189500e+07\n",
              "75%    45.230000  45.065000  45.742500  44.262500  1.934610e+07\n",
              "max    48.140000  47.190000  48.790000  45.700000  2.765530e+07"
            ]
          },
          "metadata": {
            "tags": []
          },
          "execution_count": 116
        }
      ]
    },
    {
      "cell_type": "markdown",
      "metadata": {
        "id": "Q--OkaQe_4dZ",
        "colab_type": "text"
      },
      "source": [
        "# Get data intervals (Date, Close)"
      ]
    },
    {
      "cell_type": "code",
      "metadata": {
        "id": "uZTfmimBwvCs",
        "colab_type": "code",
        "colab": {
          "base_uri": "https://localhost:8080/",
          "height": 545
        },
        "outputId": "ecb0cd6a-f239-4b04-bba0-f8f836cfbf30"
      },
      "source": [
        "def get_date_close():\n",
        "  return stock_csv_load.get(['Date', 'Close'])\n",
        "\n",
        "get_date_close()"
      ],
      "execution_count": 115,
      "outputs": [
        {
          "output_type": "execute_result",
          "data": {
            "text/html": [
              "<div>\n",
              "<style scoped>\n",
              "    .dataframe tbody tr th:only-of-type {\n",
              "        vertical-align: middle;\n",
              "    }\n",
              "\n",
              "    .dataframe tbody tr th {\n",
              "        vertical-align: top;\n",
              "    }\n",
              "\n",
              "    .dataframe thead th {\n",
              "        text-align: right;\n",
              "    }\n",
              "</style>\n",
              "<table border=\"1\" class=\"dataframe\">\n",
              "  <thead>\n",
              "    <tr style=\"text-align: right;\">\n",
              "      <th></th>\n",
              "      <th>Date</th>\n",
              "      <th>Close</th>\n",
              "    </tr>\n",
              "  </thead>\n",
              "  <tbody>\n",
              "    <tr>\n",
              "      <th>0</th>\n",
              "      <td>2019-11-26</td>\n",
              "      <td>43.08</td>\n",
              "    </tr>\n",
              "    <tr>\n",
              "      <th>1</th>\n",
              "      <td>2019-11-25</td>\n",
              "      <td>44.30</td>\n",
              "    </tr>\n",
              "    <tr>\n",
              "      <th>2</th>\n",
              "      <td>2019-11-22</td>\n",
              "      <td>45.49</td>\n",
              "    </tr>\n",
              "    <tr>\n",
              "      <th>3</th>\n",
              "      <td>2019-11-21</td>\n",
              "      <td>45.00</td>\n",
              "    </tr>\n",
              "    <tr>\n",
              "      <th>4</th>\n",
              "      <td>2019-11-19</td>\n",
              "      <td>44.46</td>\n",
              "    </tr>\n",
              "    <tr>\n",
              "      <th>5</th>\n",
              "      <td>2019-11-18</td>\n",
              "      <td>44.98</td>\n",
              "    </tr>\n",
              "    <tr>\n",
              "      <th>6</th>\n",
              "      <td>2019-11-14</td>\n",
              "      <td>44.25</td>\n",
              "    </tr>\n",
              "    <tr>\n",
              "      <th>7</th>\n",
              "      <td>2019-11-13</td>\n",
              "      <td>42.50</td>\n",
              "    </tr>\n",
              "    <tr>\n",
              "      <th>8</th>\n",
              "      <td>2019-11-12</td>\n",
              "      <td>43.40</td>\n",
              "    </tr>\n",
              "    <tr>\n",
              "      <th>9</th>\n",
              "      <td>2019-11-11</td>\n",
              "      <td>45.02</td>\n",
              "    </tr>\n",
              "    <tr>\n",
              "      <th>10</th>\n",
              "      <td>2019-11-08</td>\n",
              "      <td>43.81</td>\n",
              "    </tr>\n",
              "    <tr>\n",
              "      <th>11</th>\n",
              "      <td>2019-11-07</td>\n",
              "      <td>44.20</td>\n",
              "    </tr>\n",
              "    <tr>\n",
              "      <th>12</th>\n",
              "      <td>2019-11-06</td>\n",
              "      <td>45.20</td>\n",
              "    </tr>\n",
              "    <tr>\n",
              "      <th>13</th>\n",
              "      <td>2019-11-05</td>\n",
              "      <td>44.04</td>\n",
              "    </tr>\n",
              "    <tr>\n",
              "      <th>14</th>\n",
              "      <td>2019-11-04</td>\n",
              "      <td>46.00</td>\n",
              "    </tr>\n",
              "    <tr>\n",
              "      <th>15</th>\n",
              "      <td>2019-11-01</td>\n",
              "      <td>47.19</td>\n",
              "    </tr>\n",
              "  </tbody>\n",
              "</table>\n",
              "</div>"
            ],
            "text/plain": [
              "          Date  Close\n",
              "0   2019-11-26  43.08\n",
              "1   2019-11-25  44.30\n",
              "2   2019-11-22  45.49\n",
              "3   2019-11-21  45.00\n",
              "4   2019-11-19  44.46\n",
              "5   2019-11-18  44.98\n",
              "6   2019-11-14  44.25\n",
              "7   2019-11-13  42.50\n",
              "8   2019-11-12  43.40\n",
              "9   2019-11-11  45.02\n",
              "10  2019-11-08  43.81\n",
              "11  2019-11-07  44.20\n",
              "12  2019-11-06  45.20\n",
              "13  2019-11-05  44.04\n",
              "14  2019-11-04  46.00\n",
              "15  2019-11-01  47.19"
            ]
          },
          "metadata": {
            "tags": []
          },
          "execution_count": 115
        }
      ]
    }
  ]
}